{
  "cells": [
    {
      "cell_type": "markdown",
      "metadata": {
        "id": "view-in-github",
        "colab_type": "text"
      },
      "source": [
        "<a href=\"https://colab.research.google.com/github/anaguriaa/python/blob/main/Ol%C3%A1%2C_este_%C3%A9_o_Colaboratory.ipynb\" target=\"_parent\"><img src=\"https://colab.research.google.com/assets/colab-badge.svg\" alt=\"Open In Colab\"/></a>"
      ]
    },
    {
      "cell_type": "code",
      "source": [
        "import torch\n",
        "\n",
        "lista = [[1,2,3],\n",
        "         [4,5,6,]]\n",
        "\n",
        "tns = torch.Tensor(lista)\n",
        "print(tns.dtype)\n",
        "print(tns)\n",
        "\n",
        "tns = torch.FloatTensor(lista)\n",
        "print(tns.dtype)\n",
        "print(tns)\n",
        "\n",
        "tns = torch.DoubleTensor(lista)\n",
        "print(tns.dtype)\n",
        "print(tns)\n",
        "\n",
        "tns = torch.LongTensor(lista)\n",
        "print(tns.dtype)\n",
        "print(tns)\n",
        "\n",
        "\n"
      ],
      "metadata": {
        "id": "t1nY9F7LUm13",
        "outputId": "38d64159-0d20-4861-d0e0-0483b7949192",
        "colab": {
          "base_uri": "https://localhost:8080/"
        }
      },
      "execution_count": 9,
      "outputs": [
        {
          "output_type": "stream",
          "name": "stdout",
          "text": [
            "torch.float32\n",
            "tensor([[1., 2., 3.],\n",
            "        [4., 5., 6.]])\n",
            "torch.float32\n",
            "tensor([[1., 2., 3.],\n",
            "        [4., 5., 6.]])\n",
            "torch.float64\n",
            "tensor([[1., 2., 3.],\n",
            "        [4., 5., 6.]], dtype=torch.float64)\n",
            "torch.int64\n",
            "tensor([[1, 2, 3],\n",
            "        [4, 5, 6]])\n"
          ]
        }
      ]
    },
    {
      "cell_type": "markdown",
      "source": [
        "## **Outras formas de instanciar ** a partir de  arrays Numpy"
      ],
      "metadata": {
        "id": "fJydzL41WZqC"
      }
    },
    {
      "cell_type": "code",
      "source": [
        "import numpy as np\n",
        "\n",
        "arr = np.random.rand(3,4)\n",
        "arr = arr.astype(int)\n",
        "tns = torch.from_numpy(arr)\n",
        "\n",
        "print(arr)\n",
        "print(arr.dtype)\n",
        "print(tns)\n",
        "print(arr.dtype)"
      ],
      "metadata": {
        "id": "_GxK_x12WZAt",
        "outputId": "3b503986-403f-4c89-f444-8ba2f94bccf0",
        "colab": {
          "base_uri": "https://localhost:8080/"
        }
      },
      "execution_count": 27,
      "outputs": [
        {
          "output_type": "stream",
          "name": "stdout",
          "text": [
            "[[0 0 0 0]\n",
            " [0 0 0 0]\n",
            " [0 0 0 0]]\n",
            "int64\n",
            "tensor([[0, 0, 0, 0],\n",
            "        [0, 0, 0, 0],\n",
            "        [0, 0, 0, 0]])\n",
            "int64\n"
          ]
        }
      ]
    },
    {
      "cell_type": "markdown",
      "source": [
        "**Tensores Inicializados**\n",
        "Essas funcoes recebem como parametro o tamanho de cada dimensão do tensor. Aqui vamos cohecer as seguintes funções\n",
        "torch.ones()-> Criar um tensor preenchido com zeros\n",
        "torch.zeros()->crira um tensor preenchido com uns\n",
        "torch.randn()-> criar um tensor preenchido com números aleatórios  a partir de uma distribuição normal.***texto em itálico***"
      ],
      "metadata": {
        "id": "5NYZ6PbqeOvm"
      }
    },
    {
      "cell_type": "code",
      "source": [
        "tns1 = torch.ones(2,3)\n",
        "tns0 = torch.zeros(4,5)\n",
        "tnsr = torch.randn(6,7)\n",
        "\n",
        "print(tns1)\n",
        "print(tns0)\n",
        "print(tnsr)"
      ],
      "metadata": {
        "id": "naiNYc3qf_p5",
        "outputId": "f80961d9-903b-47f9-9f07-7d8177bf29e2",
        "colab": {
          "base_uri": "https://localhost:8080/"
        }
      },
      "execution_count": 29,
      "outputs": [
        {
          "output_type": "stream",
          "name": "stdout",
          "text": [
            "tensor([[1., 1., 1.],\n",
            "        [1., 1., 1.]])\n",
            "tensor([[0., 0., 0., 0., 0.],\n",
            "        [0., 0., 0., 0., 0.],\n",
            "        [0., 0., 0., 0., 0.],\n",
            "        [0., 0., 0., 0., 0.]])\n",
            "tensor([[-0.9841, -0.1105, -0.1387,  0.7008, -0.8007, -1.8135, -0.8476],\n",
            "        [-0.8166, -0.3895,  0.0840, -0.4674, -0.7971, -0.6474,  1.2693],\n",
            "        [ 0.5159,  0.2918, -0.8131, -1.2829, -0.8105, -0.8228, -0.6497],\n",
            "        [-0.4336, -0.5386,  0.4874,  0.0088,  1.2696, -0.3529,  1.2664],\n",
            "        [ 1.8557, -0.1731,  0.7451,  1.0144,  1.5113, -0.4591,  0.0938],\n",
            "        [ 0.9410, -0.1681, -0.8838, -0.0165,  1.1188,  0.9153, -1.4356]])\n"
          ]
        }
      ]
    },
    {
      "cell_type": "markdown",
      "source": [
        "Tensor Array Numpy"
      ],
      "metadata": {
        "id": "dkkHLIV-g2t5"
      }
    },
    {
      "cell_type": "code",
      "source": [
        "print(type(tnsr))\n",
        "arr = tnsr.data.numpy()\n",
        "print(type(arr))"
      ],
      "metadata": {
        "id": "QGtrzaK-g9Df",
        "outputId": "a0d4d986-c72b-47a2-a032-62fead2490ca",
        "colab": {
          "base_uri": "https://localhost:8080/"
        }
      },
      "execution_count": 33,
      "outputs": [
        {
          "output_type": "stream",
          "name": "stdout",
          "text": [
            "<class 'torch.Tensor'>\n",
            "<class 'numpy.ndarray'>\n"
          ]
        }
      ]
    },
    {
      "cell_type": "markdown",
      "source": [
        "**Indexação**"
      ],
      "metadata": {
        "id": "35zhzkoChh2a"
      }
    },
    {
      "cell_type": "code",
      "source": [
        "print(tnsr)\n",
        "tns[0, 2] = -10\n",
        "print(\"\")\n",
        "print(tnsr)\n",
        "print(\"\")\n",
        "print(tnsr[:, 2])\n",
        "print(tnsr[0,2].size())\n"
      ],
      "metadata": {
        "id": "0IVhYEckhlV5",
        "outputId": "a50ca0f6-9692-47cf-fc90-29c7f2ceed3a",
        "colab": {
          "base_uri": "https://localhost:8080/"
        }
      },
      "execution_count": 77,
      "outputs": [
        {
          "output_type": "stream",
          "name": "stdout",
          "text": [
            "tensor([[-9.8408e-01, -1.1052e-01, -1.0000e+01,  7.0077e-01, -8.0067e-01,\n",
            "         -1.8135e+00, -8.4759e-01],\n",
            "        [-8.1662e-01, -3.8947e-01,  8.3967e-02, -4.6741e-01, -7.9711e-01,\n",
            "         -6.4740e-01,  1.2693e+00],\n",
            "        [ 5.1591e-01,  2.9182e-01, -8.1310e-01, -1.2829e+00, -8.1049e-01,\n",
            "         -8.2282e-01, -6.4973e-01],\n",
            "        [-4.3357e-01, -5.3861e-01,  4.8740e-01,  8.7995e-03,  1.2696e+00,\n",
            "         -3.5294e-01,  1.2664e+00],\n",
            "        [ 1.8557e+00, -1.7305e-01,  7.4514e-01,  1.0144e+00,  1.5113e+00,\n",
            "         -4.5906e-01,  9.3760e-02],\n",
            "        [ 9.4096e-01, -1.6811e-01, -8.8385e-01, -1.6502e-02,  1.1188e+00,\n",
            "          9.1529e-01, -1.4356e+00]])\n",
            "\n",
            "tensor([[-9.8408e-01, -1.1052e-01, -1.0000e+01,  7.0077e-01, -8.0067e-01,\n",
            "         -1.8135e+00, -8.4759e-01],\n",
            "        [-8.1662e-01, -3.8947e-01,  8.3967e-02, -4.6741e-01, -7.9711e-01,\n",
            "         -6.4740e-01,  1.2693e+00],\n",
            "        [ 5.1591e-01,  2.9182e-01, -8.1310e-01, -1.2829e+00, -8.1049e-01,\n",
            "         -8.2282e-01, -6.4973e-01],\n",
            "        [-4.3357e-01, -5.3861e-01,  4.8740e-01,  8.7995e-03,  1.2696e+00,\n",
            "         -3.5294e-01,  1.2664e+00],\n",
            "        [ 1.8557e+00, -1.7305e-01,  7.4514e-01,  1.0144e+00,  1.5113e+00,\n",
            "         -4.5906e-01,  9.3760e-02],\n",
            "        [ 9.4096e-01, -1.6811e-01, -8.8385e-01, -1.6502e-02,  1.1188e+00,\n",
            "          9.1529e-01, -1.4356e+00]])\n",
            "\n",
            "tensor([-10.0000,   0.0840,  -0.8131,   0.4874,   0.7451,  -0.8838])\n",
            "torch.Size([])\n"
          ]
        }
      ]
    },
    {
      "cell_type": "markdown",
      "source": [
        "**Operações** **Básicas**"
      ],
      "metadata": {
        "id": "INavoDCwkcCy"
      }
    },
    {
      "cell_type": "code",
      "source": [
        "\n",
        "tns = tnsr[0:2,:]\n",
        "print (tns)\n",
        "print (tnsr)\n",
        "print (torch.mm(tns,tnsr.T))"
      ],
      "metadata": {
        "id": "l3W18767x5mx",
        "outputId": "b79f5b72-4d3d-4185-906c-ba5b712a53a0",
        "colab": {
          "base_uri": "https://localhost:8080/"
        }
      },
      "execution_count": 87,
      "outputs": [
        {
          "output_type": "stream",
          "name": "stdout",
          "text": [
            "tensor([[ -0.9841,  -0.1105, -10.0000,   0.7008,  -0.8007,  -1.8135,  -0.8476],\n",
            "        [ -0.8166,  -0.3895,   0.0840,  -0.4674,  -0.7971,  -0.6474,   1.2693]])\n",
            "tensor([[-9.8408e-01, -1.1052e-01, -1.0000e+01,  7.0077e-01, -8.0067e-01,\n",
            "         -1.8135e+00, -8.4759e-01],\n",
            "        [-8.1662e-01, -3.8947e-01,  8.3967e-02, -4.6741e-01, -7.9711e-01,\n",
            "         -6.4740e-01,  1.2693e+00],\n",
            "        [ 5.1591e-01,  2.9182e-01, -8.1310e-01, -1.2829e+00, -8.1049e-01,\n",
            "         -8.2282e-01, -6.4973e-01],\n",
            "        [-4.3357e-01, -5.3861e-01,  4.8740e-01,  8.7995e-03,  1.2696e+00,\n",
            "         -3.5294e-01,  1.2664e+00],\n",
            "        [ 1.8557e+00, -1.7305e-01,  7.4514e-01,  1.0144e+00,  1.5113e+00,\n",
            "         -4.5906e-01,  9.3760e-02],\n",
            "        [ 9.4096e-01, -1.6811e-01, -8.8385e-01, -1.6502e-02,  1.1188e+00,\n",
            "          9.1529e-01, -1.4356e+00]])\n",
            "tensor([[106.1201,   0.4159,   9.3839,  -5.8315,  -9.0045,   6.5806],\n",
            "        [  0.4159,   3.7098,   0.3504,   1.4247,  -2.6480,  -4.0760]])\n"
          ]
        }
      ]
    },
    {
      "cell_type": "code",
      "source": [
        "tns1 = torch.randn(2,2,3)\n",
        "tns2 = torch.ones(2,2,3)\n",
        "\n",
        "print(tns1)\n",
        "print(tns2)\n",
        "\n",
        "print('')\n",
        "\n",
        "print(tns1*tns2)"
      ],
      "metadata": {
        "id": "og7ACsPg7-58",
        "outputId": "fcf76321-888d-4fa2-9ad3-e448d02ec28c",
        "colab": {
          "base_uri": "https://localhost:8080/"
        }
      },
      "execution_count": 20,
      "outputs": [
        {
          "output_type": "stream",
          "name": "stdout",
          "text": [
            "tensor([[[ 0.0402, -0.1348, -0.5991],\n",
            "         [-0.0359,  0.3393,  1.0905]],\n",
            "\n",
            "        [[ 0.0490, -0.2795,  0.5056],\n",
            "         [ 1.6744, -0.9240, -0.1177]]])\n",
            "tensor([[[1., 1., 1.],\n",
            "         [1., 1., 1.]],\n",
            "\n",
            "        [[1., 1., 1.],\n",
            "         [1., 1., 1.]]])\n",
            "\n",
            "tensor([[[ 0.0402, -0.1348, -0.5991],\n",
            "         [-0.0359,  0.3393,  1.0905]],\n",
            "\n",
            "        [[ 0.0490, -0.2795,  0.5056],\n",
            "         [ 1.6744, -0.9240, -0.1177]]])\n"
          ]
        }
      ]
    },
    {
      "cell_type": "markdown",
      "source": [
        "**Função** .**size**() **e** .**view**()**negrito**"
      ],
      "metadata": {
        "id": "ZEMJni9H2JI2"
      }
    },
    {
      "cell_type": "code",
      "source": [
        "tns = torch.randn(2,2,3)\n",
        "print(tns)\n",
        "print(tns.size())\n",
        "tns =  tns.view(4,3)\n",
        "print(tns)"
      ],
      "metadata": {
        "id": "V1O5aAh62WRd",
        "outputId": "475da15c-f80c-4556-ac86-c0d4f266ae93",
        "colab": {
          "base_uri": "https://localhost:8080/"
        }
      },
      "execution_count": 93,
      "outputs": [
        {
          "output_type": "stream",
          "name": "stdout",
          "text": [
            "tensor([[[-1.6683, -1.0371,  0.1397],\n",
            "         [ 0.1766,  1.2895, -1.9975]],\n",
            "\n",
            "        [[-0.7123,  0.2766,  1.3065],\n",
            "         [ 0.4629, -0.5648, -0.9094]]])\n",
            "torch.Size([2, 2, 3])\n",
            "tensor([[-1.6683, -1.0371,  0.1397],\n",
            "        [ 0.1766,  1.2895, -1.9975],\n",
            "        [-0.7123,  0.2766,  1.3065],\n",
            "        [ 0.4629, -0.5648, -0.9094]])\n"
          ]
        }
      ]
    },
    {
      "cell_type": "markdown",
      "source": [
        "**GPU** **Cast**"
      ],
      "metadata": {
        "id": "bdI8MnAL3PVe"
      }
    },
    {
      "cell_type": "code",
      "source": [
        "import torch\n",
        "tns = torch.randn(10)\n",
        "if torch.cuda.is_available():\n",
        "  device = torch.device('cuda')\n",
        "else:\n",
        "  device = torch.device('cpu')\n",
        "print(device)\n",
        "tns = tns.to(device)\n",
        "print(tns)\n"
      ],
      "metadata": {
        "id": "dweG6vDE3Ss3",
        "outputId": "9b6ec0c5-1276-44ea-e7e4-3573052e10fd",
        "colab": {
          "base_uri": "https://localhost:8080/"
        }
      },
      "execution_count": 12,
      "outputs": [
        {
          "output_type": "stream",
          "name": "stdout",
          "text": [
            "cuda\n",
            "tensor([-0.3836,  1.9038, -0.9990,  0.5047,  0.9703,  0.3137, -1.1632, -1.3445,\n",
            "         1.2384, -1.2025], device='cuda:0')\n"
          ]
        }
      ]
    },
    {
      "cell_type": "code",
      "source": [
        "import torch\n",
        "tns = torch.randn(9, 12)\n",
        "tns1 = tns[0:5, 0:4]\n",
        "tns2 = tns[5:, 4:]\n",
        "\n",
        "resultado = torch.mm(tns1, tns2)\n",
        "print(resultado.size())"
      ],
      "metadata": {
        "id": "vspeGjMc6AXv",
        "outputId": "0bb534b9-7e7f-420f-f41d-a39fe8026fa0",
        "colab": {
          "base_uri": "https://localhost:8080/"
        }
      },
      "execution_count": 14,
      "outputs": [
        {
          "output_type": "stream",
          "name": "stdout",
          "text": [
            "torch.Size([5, 8])\n"
          ]
        }
      ]
    },
    {
      "cell_type": "code",
      "source": [
        "import torch\n",
        "tns1 = torch.randn(7,7,3)\n",
        "tns2 = torch.randn(147, 1)\n",
        "\n",
        "tns1 = tns1.view(-1,1)\n",
        "soma = tns1 + tns2\n"
      ],
      "metadata": {
        "id": "aTGS0FuT6ae5"
      },
      "execution_count": 19,
      "outputs": []
    },
    {
      "cell_type": "markdown",
      "source": [
        "**Introdução A Redes Neurais Com Pytorch**\n",
        "**PERCEPTRON**\n",
        "### **EQUAÇÃO DA RETA **\n",
        "ax+by+c reescrita para w1x1 + w2x2 + b portanto w1,w2 e b são parametros que definem o nosso **modelo** linear, a nosa reta.\n",
        "vamos começar realizanod o plot de uma reta específica -1x1 + 4x2 + 0.4"
      ],
      "metadata": {
        "id": "m1w06ABm8h1n"
      }
    },
    {
      "cell_type": "code",
      "source": [
        "import numpy as np\n",
        "import matplotlib.pyplot as plt\n",
        "a =-1\n",
        "b = 4\n",
        "c = 0.4\n",
        "#ax + by + c = 0\n",
        "# y =(-a*x - c)/b\n",
        "def plotline(a, b, c):\n",
        "x = np.linspace(-2, 4, 50)\n",
        "y = (-a*x - c)/b\n",
        "\n",
        "plt.axvline(0, -1, 1, color='k', linewidth=1)\n",
        "plt.axvline(0, -2, 1, color='k', linewidth=1)\n",
        "plt.plot(x, y)\n",
        "plt.grid(True)\n",
        "plotline(a, b, c)"
      ],
      "metadata": {
        "id": "GoLgndGZ-Njx",
        "outputId": "2ebbf099-4eee-4b39-c50b-4db305d57f23",
        "colab": {
          "base_uri": "https://localhost:8080/",
          "height": 430
        }
      },
      "execution_count": 35,
      "outputs": [
        {
          "output_type": "display_data",
          "data": {
            "text/plain": [
              "<Figure size 640x480 with 1 Axes>"
            ],
            "image/png": "[encoded data removed]"
          },
          "metadata": {}
        }
      ]
    },
    {
      "cell_type": "markdown",
      "source": [],
      "metadata": {
        "id": "vH7mHqsNHRuQ"
      }
    },
    {
      "cell_type": "code",
      "source": [],
      "metadata": {
        "id": "PMs120zn9CB6"
      },
      "execution_count": null,
      "outputs": []
    },
    {
      "cell_type": "markdown",
      "source": [
        "# **Solucionando a questão da reta diferente pontos **"
      ],
      "metadata": {
        "id": "o4Kg6s92Brmo"
      }
    },
    {
      "cell_type": "code",
      "source": [
        "#import numpy as np\n",
        "import matplotlib.pyplot as plt\n",
        "\n",
        "p1=(2, 0.4)\n",
        "ret1 =a*p1[0] + b*p1[1] + c\n",
        "\n",
        "plotline(a,b,c)\n",
        "plt.plot(p1[0], p1[1], color= 'b', marker='o')\n",
        ""
      ],
      "metadata": {
        "id": "j323ql_B9FLy",
        "outputId": "8f513ed6-9670-4f85-c6e7-30558aad13ec",
        "colab": {
          "base_uri": "https://localhost:8080/",
          "height": 366
        }
      },
      "execution_count": 24,
      "outputs": [
        {
          "output_type": "error",
          "ename": "TypeError",
          "evalue": "ignored",
          "traceback": [
            "\u001b[0;31m---------------------------------------------------------------------------\u001b[0m",
            "\u001b[0;31mTypeError\u001b[0m                                 Traceback (most recent call last)",
            "\u001b[0;32m<ipython-input-24-d1cbb593ff72>\u001b[0m in \u001b[0;36m<cell line: 7>\u001b[0;34m()\u001b[0m\n\u001b[1;32m      5\u001b[0m \u001b[0mret1\u001b[0m \u001b[0;34m=\u001b[0m\u001b[0ma\u001b[0m\u001b[0;34m*\u001b[0m\u001b[0mp1\u001b[0m\u001b[0;34m[\u001b[0m\u001b[0;36m0\u001b[0m\u001b[0;34m]\u001b[0m \u001b[0;34m+\u001b[0m \u001b[0mb\u001b[0m\u001b[0;34m*\u001b[0m\u001b[0mp1\u001b[0m\u001b[0;34m[\u001b[0m\u001b[0;36m1\u001b[0m\u001b[0;34m]\u001b[0m \u001b[0;34m+\u001b[0m \u001b[0mc\u001b[0m\u001b[0;34m\u001b[0m\u001b[0;34m\u001b[0m\u001b[0m\n\u001b[1;32m      6\u001b[0m \u001b[0;34m\u001b[0m\u001b[0m\n\u001b[0;32m----> 7\u001b[0;31m \u001b[0mplotline\u001b[0m\u001b[0;34m(\u001b[0m\u001b[0ma\u001b[0m\u001b[0;34m,\u001b[0m\u001b[0mb\u001b[0m\u001b[0;34m,\u001b[0m\u001b[0mc\u001b[0m\u001b[0;34m)\u001b[0m\u001b[0;34m\u001b[0m\u001b[0;34m\u001b[0m\u001b[0m\n\u001b[0m\u001b[1;32m      8\u001b[0m \u001b[0mplt\u001b[0m\u001b[0;34m.\u001b[0m\u001b[0mplot\u001b[0m\u001b[0;34m(\u001b[0m\u001b[0mp1\u001b[0m\u001b[0;34m[\u001b[0m\u001b[0;36m0\u001b[0m\u001b[0;34m]\u001b[0m\u001b[0;34m,\u001b[0m \u001b[0mp1\u001b[0m\u001b[0;34m[\u001b[0m\u001b[0;36m1\u001b[0m\u001b[0;34m]\u001b[0m\u001b[0;34m,\u001b[0m \u001b[0mcolor\u001b[0m\u001b[0;34m=\u001b[0m \u001b[0;34m'b'\u001b[0m\u001b[0;34m,\u001b[0m \u001b[0mmarker\u001b[0m\u001b[0;34m=\u001b[0m\u001b[0;34m'o'\u001b[0m\u001b[0;34m)\u001b[0m\u001b[0;34m\u001b[0m\u001b[0;34m\u001b[0m\u001b[0m\n\u001b[1;32m      9\u001b[0m \u001b[0;34m\u001b[0m\u001b[0m\n",
            "\u001b[0;32m<ipython-input-13-7097ab5ec956>\u001b[0m in \u001b[0;36mplotline\u001b[0;34m(a, b, c)\u001b[0m\n\u001b[1;32m      7\u001b[0m \u001b[0;32mdef\u001b[0m \u001b[0mplotline\u001b[0m\u001b[0;34m(\u001b[0m\u001b[0ma\u001b[0m\u001b[0;34m,\u001b[0m \u001b[0mb\u001b[0m\u001b[0;34m,\u001b[0m \u001b[0mc\u001b[0m\u001b[0;34m)\u001b[0m\u001b[0;34m:\u001b[0m\u001b[0;34m\u001b[0m\u001b[0;34m\u001b[0m\u001b[0m\n\u001b[1;32m      8\u001b[0m   \u001b[0mp1\u001b[0m\u001b[0;34m=\u001b[0m\u001b[0;34m(\u001b[0m\u001b[0;36m2\u001b[0m\u001b[0;34m,\u001b[0m\u001b[0;36m0.4\u001b[0m\u001b[0;34m)\u001b[0m\u001b[0;34m\u001b[0m\u001b[0;34m\u001b[0m\u001b[0m\n\u001b[0;32m----> 9\u001b[0;31m   \u001b[0mret1\u001b[0m \u001b[0;34m=\u001b[0m\u001b[0ma\u001b[0m\u001b[0;34m*\u001b[0m\u001b[0mp1\u001b[0m\u001b[0;34m[\u001b[0m\u001b[0;36m0\u001b[0m\u001b[0;34m]\u001b[0m \u001b[0;34m+\u001b[0m \u001b[0mb\u001b[0m\u001b[0;34m*\u001b[0m\u001b[0;34m[\u001b[0m\u001b[0;36m1\u001b[0m\u001b[0;34m]\u001b[0m \u001b[0;34m+\u001b[0m \u001b[0mc\u001b[0m\u001b[0;34m\u001b[0m\u001b[0;34m\u001b[0m\u001b[0m\n\u001b[0m\u001b[1;32m     10\u001b[0m \u001b[0;34m\u001b[0m\u001b[0m\n\u001b[1;32m     11\u001b[0m   \u001b[0mplotline\u001b[0m\u001b[0;34m(\u001b[0m\u001b[0ma\u001b[0m\u001b[0;34m,\u001b[0m\u001b[0mb\u001b[0m\u001b[0;34m,\u001b[0m\u001b[0mc\u001b[0m\u001b[0;34m)\u001b[0m\u001b[0;34m\u001b[0m\u001b[0;34m\u001b[0m\u001b[0m\n",
            "\u001b[0;31mTypeError\u001b[0m: unsupported operand type(s) for +: 'int' and 'list'"
          ]
        }
      ]
    },
    {
      "cell_type": "code",
      "source": [],
      "metadata": {
        "id": "U5RPaMFd82HY"
      },
      "execution_count": null,
      "outputs": []
    }
  ],
  "metadata": {
    "colab": {
      "name": "Olá, este é o Colaboratory",
      "provenance": [],
      "include_colab_link": true
    },
    "kernelspec": {
      "display_name": "Python 3",
      "name": "python3"
    }
  },
  "nbformat": 4,
  "nbformat_minor": 0
}